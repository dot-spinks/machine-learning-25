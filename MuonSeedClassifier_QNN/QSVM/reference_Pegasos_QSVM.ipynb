{
 "cells": [
  {
   "cell_type": "markdown",
   "metadata": {},
   "source": [
    "There’s another SVM based algorithm that benefits from the quantum kernel method.\n",
    "Here, we introduce an implementation of a another classification algorithm, \n",
    "which is an alternative version to the QSVC available in Qiskit Machine Learning and shown in the “Quantum Kernel Machine Learning” tutorial.\n",
    "This classification algorithm implements the Pegasos algorithm from the paper \n",
    "“Pegasos: Primal Estimated sub-GrAdient SOlver for SVM” by Shalev-Shwartz et al., see: https://home.ttic.edu/~nati/Publications/PegasosMPB.pdf.\n",
    "\n",
    "This algorithm is an alternative to the dual optimization from the scikit-learn package, \n",
    "benefits from the kernel trick, and yields a training complexity that is independent of the size of the training set.\n",
    "Thus, the PegasosQSVC is expected to train faster than QSVC for sufficiently large training sets.\n",
    "\n",
    "The algorithm can be used as direct replacement of QSVC with some hyper-parameterization.\n",
    "Let’s generate some data:\n"
   ]
  },
  {
   "cell_type": "code",
   "execution_count": 6,
   "metadata": {},
   "outputs": [],
   "source": [
    "from sklearn.datasets import make_blobs\n",
    "\n",
    "# example dataset\n",
    "features, labels = make_blobs(n_samples=20, n_features=2, centers=2, random_state=3, shuffle=True)"
   ]
  },
  {
   "cell_type": "markdown",
   "metadata": {},
   "source": [
    "We pre-process the data to ensure compatibility with the rotation encoding \n",
    "and split it into the training and test datasets.\n"
   ]
  },
  {
   "cell_type": "code",
   "execution_count": 7,
   "metadata": {},
   "outputs": [],
   "source": [
    "import numpy as np\n",
    "\n",
    "from sklearn.model_selection import train_test_split\n",
    "from sklearn.preprocessing import MinMaxScaler\n",
    "\n",
    "features = MinMaxScaler(feature_range=(0, np.pi)).fit_transform(features)\n",
    "\n",
    "train_features, test_features, train_labels, test_labels = train_test_split(\n",
    "    features, labels, train_size=15, shuffle=False\n",
    ")"
   ]
  },
  {
   "cell_type": "markdown",
   "metadata": {},
   "source": [
    "We have two features in the dataset, so we set a number of qubits to the number of features in the dataset.\n",
    "\n",
    "Then we set $\\tau$ to the number of steps performed during the training procedure.\n",
    "Please note that, there is no early stopping criterion in the algorithm. The algorithm iterates over all $\\tau$ steps.\n",
    "\n",
    "And the last one is the hyperparameter $C$. This is a positive regularization parameter. The strength of the regularization is inversely proportional to \n",
    "$C$. \n",
    "\n",
    "Smaller $C$ induce smaller weights which generally helps preventing overfitting. However, due to the nature of this algorithm, some of the computation steps become trivial for larger $C$. Thus, larger $C$ improve the performance of the algorithm drastically. If the data is linearly separable in feature space, $C$ should be chosen to be large. If the separation is not perfect, $C$ should be chosen smaller to prevent overfitting."
   ]
  },
  {
   "cell_type": "code",
   "execution_count": 8,
   "metadata": {},
   "outputs": [],
   "source": [
    "# number of qubits is equal to the number of features\n",
    "num_qubits = 2\n",
    "\n",
    "# number of steps performed during the training procedure\n",
    "tau = 100\n",
    "\n",
    "# regularization parameter\n",
    "C = 1000"
   ]
  },
  {
   "cell_type": "markdown",
   "metadata": {},
   "source": [
    "The algorithm will run using:\n",
    "\n",
    "- The default fidelity instantiated in FidelityQuantumKernel\n",
    "- A quantum kernel created from ZFeatureMap"
   ]
  },
  {
   "cell_type": "code",
   "execution_count": 9,
   "metadata": {},
   "outputs": [],
   "source": [
    "from qiskit.circuit.library import ZFeatureMap\n",
    "from qiskit_machine_learning.utils import algorithm_globals\n",
    "\n",
    "from qiskit_machine_learning.kernels import FidelityQuantumKernel\n",
    "\n",
    "from qiskit_machine_learning.state_fidelities import ComputeUncompute\n",
    "from qiskit.primitives import StatevectorSampler as Sampler\n",
    "\n",
    "sampler = Sampler()\n",
    "fidelity = ComputeUncompute(sampler=sampler)\n",
    "\n",
    "algorithm_globals.random_seed = 12345\n",
    "\n",
    "feature_map = ZFeatureMap(feature_dimension=num_qubits, reps=1)\n",
    "\n",
    "qkernel = FidelityQuantumKernel(fidelity=fidelity, feature_map=feature_map)"
   ]
  },
  {
   "cell_type": "markdown",
   "metadata": {},
   "source": [
    "The implementation PegasosQSVC is compatible with the scikit-learn interfaces and has a pretty standard way of training a model. In the constructor we pass parameters of the algorithm, in this case there are a regularization hyper-parameter $C$ and a number of steps.\n",
    "\n",
    "Then we pass training features and labels to the fit method, which trains a models and returns a fitted classifier.\n",
    "\n",
    "Afterwards, we score our model using test features and labels."
   ]
  },
  {
   "cell_type": "code",
   "execution_count": 10,
   "metadata": {},
   "outputs": [
    {
     "name": "stdout",
     "output_type": "stream",
     "text": [
      "PegasosQSVC classification test score: 1.0\n"
     ]
    }
   ],
   "source": [
    "from qiskit_machine_learning.algorithms import PegasosQSVC\n",
    "\n",
    "pegasos_qsvc = PegasosQSVC(quantum_kernel=qkernel, C=C, num_steps=tau)\n",
    "\n",
    "# training\n",
    "pegasos_qsvc.fit(train_features, train_labels)\n",
    "\n",
    "# testing\n",
    "pegasos_score = pegasos_qsvc.score(test_features, test_labels)\n",
    "print(f\"PegasosQSVC classification test score: {pegasos_score}\")"
   ]
  },
  {
   "cell_type": "markdown",
   "metadata": {},
   "source": [
    "For visualization purposes we create a mesh grid of a predefined step that spans our minimum and maximum values we applied in MinMaxScaler. We also add some margin to the grid for better representation of the training and test samples.\n",
    "\n"
   ]
  },
  {
   "cell_type": "code",
   "execution_count": 11,
   "metadata": {},
   "outputs": [],
   "source": [
    "grid_step = 0.2\n",
    "margin = 0.2\n",
    "grid_x, grid_y = np.meshgrid(\n",
    "    np.arange(-margin, np.pi + margin, grid_step), np.arange(-margin, np.pi + margin, grid_step)\n",
    ")"
   ]
  },
  {
   "cell_type": "markdown",
   "metadata": {},
   "source": [
    "We convert the grid to the shape compatible with the model, the shape should be (n_samples, n_features). Then for each grid point we predict a label. In our case predicted labels will be used for coloring the grid.\n"
   ]
  },
  {
   "cell_type": "code",
   "execution_count": 12,
   "metadata": {},
   "outputs": [],
   "source": [
    "meshgrid_features = np.column_stack((grid_x.ravel(), grid_y.ravel()))\n",
    "meshgrid_colors = pegasos_qsvc.predict(meshgrid_features)"
   ]
  },
  {
   "cell_type": "markdown",
   "metadata": {},
   "source": [
    "Finally, we plot our grid according to the labels/colors we obtained from the model. We also plot training and test samples.\n",
    "\n"
   ]
  },
  {
   "cell_type": "code",
   "execution_count": 13,
   "metadata": {},
   "outputs": [
    {
     "data": {
      "image/png": "[encoded data removed]",
      "text/plain": [
       "<Figure size 500x500 with 1 Axes>"
      ]
     },
     "metadata": {},
     "output_type": "display_data"
    }
   ],
   "source": [
    "import matplotlib.pyplot as plt\n",
    "\n",
    "plt.figure(figsize=(5, 5))\n",
    "meshgrid_colors = meshgrid_colors.reshape(grid_x.shape)\n",
    "plt.pcolormesh(grid_x, grid_y, meshgrid_colors, cmap=\"RdBu\", shading=\"auto\")\n",
    "\n",
    "plt.scatter(\n",
    "    train_features[:, 0][train_labels == 0],\n",
    "    train_features[:, 1][train_labels == 0],\n",
    "    marker=\"s\",\n",
    "    facecolors=\"w\",\n",
    "    edgecolors=\"r\",\n",
    "    label=\"A train\",\n",
    ")\n",
    "plt.scatter(\n",
    "    train_features[:, 0][train_labels == 1],\n",
    "    train_features[:, 1][train_labels == 1],\n",
    "    marker=\"o\",\n",
    "    facecolors=\"w\",\n",
    "    edgecolors=\"b\",\n",
    "    label=\"B train\",\n",
    ")\n",
    "\n",
    "plt.scatter(\n",
    "    test_features[:, 0][test_labels == 0],\n",
    "    test_features[:, 1][test_labels == 0],\n",
    "    marker=\"s\",\n",
    "    facecolors=\"r\",\n",
    "    edgecolors=\"r\",\n",
    "    label=\"A test\",\n",
    ")\n",
    "plt.scatter(\n",
    "    test_features[:, 0][test_labels == 1],\n",
    "    test_features[:, 1][test_labels == 1],\n",
    "    marker=\"o\",\n",
    "    facecolors=\"b\",\n",
    "    edgecolors=\"b\",\n",
    "    label=\"B test\",\n",
    ")\n",
    "\n",
    "plt.legend(bbox_to_anchor=(1.05, 1), loc=\"upper left\", borderaxespad=0.0)\n",
    "plt.title(\"Pegasos Classification\")\n",
    "plt.show()\n"
   ]
  },
  {
   "cell_type": "code",
   "execution_count": null,
   "metadata": {},
   "outputs": [],
   "source": []
  }
 ],
 "metadata": {
  "kernelspec": {
   "display_name": "pennylane",
   "language": "python",
   "name": "python3"
  },
  "language_info": {
   "codemirror_mode": {
    "name": "ipython",
    "version": 3
   },
   "file_extension": ".py",
   "mimetype": "text/x-python",
   "name": "python",
   "nbconvert_exporter": "python",
   "pygments_lexer": "ipython3",
   "version": "3.11.11"
  }
 },
 "nbformat": 4,
 "nbformat_minor": 2
}
